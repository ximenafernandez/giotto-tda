{
 "cells": [
  {
   "cell_type": "markdown",
   "id": "403ae0ca-0fd4-47e7-9372-a6c236e20ced",
   "metadata": {},
   "source": [
    "# Intrinsic persistent homology"
   ]
  },
  {
   "cell_type": "markdown",
   "id": "bf47629f-a98c-4644-b862-725eb7572ed3",
   "metadata": {},
   "source": [
    "This notebook contains a comparison of different distances to be considered when computing persistent homology of a point cloud assumed to be sample points _close_ to a **manifold** in a high dimensional Euclidean space."
   ]
  },
  {
   "cell_type": "markdown",
   "id": "92fb5ac2-aaf8-49fc-bf1e-fe76a549ae4f",
   "metadata": {},
   "source": [
    "#### Libraries"
   ]
  },
  {
   "cell_type": "code",
   "execution_count": null,
   "id": "5fe0cb06-f294-440b-a58d-647b8d58eea9",
   "metadata": {},
   "outputs": [],
   "source": [
    "import numpy as np\n",
    "\n",
    "#Plotting functions\n",
    "from gtda.plotting import plot_point_cloud\n",
    "from gtda.plotting import plot_heatmap\n",
    "\n",
    "#Persistent homology\n",
    "from gtda.homology import VietorisRipsPersistence\n",
    "from gtda.plotting import plot_diagram\n",
    "\n",
    "#Graph distances\n",
    "from gtda.graphs import KNeighborsGraph, GraphGeodesicDistance\n",
    "from sklearn.metrics.pairwise import euclidean_distances\n",
    "\n",
    "#Manifolds\n",
    "from sklearn.manifold import MDS"
   ]
  },
  {
   "cell_type": "markdown",
   "id": "09ce87e2-2780-4035-9ffc-6934441e9283",
   "metadata": {},
   "source": [
    "## Point cloud: the trefoil knot"
   ]
  },
  {
   "cell_type": "code",
   "execution_count": null,
   "id": "f3476aeb-e351-48b2-baf7-bfd962ebdede",
   "metadata": {},
   "outputs": [],
   "source": [
    "def generate_noise(type_noise, var, n):\n",
    "    if type_noise == 'normal':\n",
    "        return np.random.normal(0, var, n)\n",
    "    if type_noise == 'uniform':\n",
    "        return np.random.uniform(-var, var, n)\n",
    "\n",
    "def trefoil(n, type_noise, var):\n",
    "    '''\n",
    "    Sample on trefoil curve with noise and outliers.\n",
    "    \n",
    "    Input:\n",
    "    n: an integer, number of points in the sample\n",
    "    type_noise: string, 'normal' or uniform\n",
    "    var: a float, variance of the noise    \n",
    "    Output:\n",
    "    data: a nx3 array, representing points in R^3\n",
    "    '''\n",
    "    \n",
    "    phi = np.linspace(0,2*np.pi,n)\n",
    "    \n",
    "    X = np.sin(phi)+2*np.sin(2*phi)  + generate_noise(type_noise, var, n)\n",
    "    Y = np.cos(phi)-2*np.cos(2*phi)  + generate_noise(type_noise, var, n)\n",
    "    Z = - np.sin(3*phi)           + generate_noise(type_noise, var, n)\n",
    "    \n",
    "    data = np.column_stack((X,Y,Z))\n",
    "    \n",
    "    return data"
   ]
  },
  {
   "cell_type": "markdown",
   "id": "aadee25f",
   "metadata": {},
   "source": [
    "We generate a noisy sample of the **trefoil knot**."
   ]
  },
  {
   "cell_type": "code",
   "execution_count": null,
   "id": "729f8de5-ed15-4d89-98ed-ef23dde6beff",
   "metadata": {},
   "outputs": [],
   "source": [
    "np.random.seed(1212)\n",
    "point_cloud = trefoil(1500, 'normal', 0.18)\n",
    "plot_point_cloud(point_cloud)"
   ]
  },
  {
   "cell_type": "markdown",
   "id": "89f821af",
   "metadata": {},
   "source": [
    "Notice that although the trefoil knot is a _non-trivial_ embedding of $S^1$ in $\\mathbb{R}^3$, it is homeomorphic to a circle. In particular, its shares the same homology groups and so its Betti numbers are $\\beta_0 = 1$, $\\beta_1 = 1$ and $\\beta_i = 0$ for $i>1$."
   ]
  },
  {
   "cell_type": "markdown",
   "id": "f9731594",
   "metadata": {},
   "source": [
    "## Persistent Homology"
   ]
  },
  {
   "cell_type": "markdown",
   "id": "4789f4cd",
   "metadata": {},
   "source": [
    "Although different Riemannian metrics does not change the topology of a compact Riemmanian manifold viewed as a metric space, the choice of the input distance when computing persistent homology from a sample plays a central role. In what follows, we will how the choice of different metrics in the sample affects the information produced by the associated persistent diagram, in the example of the trefoil knot."
   ]
  },
  {
   "cell_type": "code",
   "execution_count": null,
   "id": "390213ab",
   "metadata": {},
   "outputs": [],
   "source": [
    "homology_dimensions = (0, 1)"
   ]
  },
  {
   "cell_type": "markdown",
   "id": "3101eeaa",
   "metadata": {},
   "source": [
    "* **Euclidean distance**"
   ]
  },
  {
   "cell_type": "markdown",
   "id": "ad9b4b74",
   "metadata": {},
   "source": [
    "Given a sample $\\mathbb{X_n}$ of points in the Euclidean space, the Euclidean distance is the most used and easily computable input distance when computing persistence diagrams. However, it does not capture the intrinsic information of the underlying topological space, being the output diagram highly dependent on the particular embedding of the data."
   ]
  },
  {
   "cell_type": "code",
   "execution_count": null,
   "id": "941577a9",
   "metadata": {},
   "outputs": [],
   "source": [
    "E_matrix = euclidean_distances(point_cloud, point_cloud)\n",
    "plot_heatmap(E_matrix, colorscale='blues')"
   ]
  },
  {
   "cell_type": "code",
   "execution_count": null,
   "id": "ccdd4581",
   "metadata": {},
   "outputs": [],
   "source": [
    "VR_E = VietorisRipsPersistence(homology_dimensions=homology_dimensions, metric = 'euclidean')\n",
    "diagram_E = VR_E.fit_transform(point_cloud[None, :, :])\n",
    "VR_E.plot(diagram_E)"
   ]
  },
  {
   "cell_type": "markdown",
   "id": "22956f80",
   "metadata": {},
   "source": [
    "The persistence diagram shows many salient generators for the first homology group, as consequence of areas of small reach in the embedding of $S^1$ in $\\mathbb{R}^3$. In order to capture intrinsic information of the underlying manifold (less dependent on the particular embedding), it is more desirable to endow the sample with an estimator of an intrinsic distance."
   ]
  },
  {
   "cell_type": "markdown",
   "id": "a1452b85",
   "metadata": {},
   "source": [
    "* **kNN distance**"
   ]
  },
  {
   "cell_type": "markdown",
   "id": "5a68351b",
   "metadata": {},
   "source": [
    "Given the point cloud, compute kNN-distances for a given integer parameter $k>0$ as follows:\n",
    "\n",
    "$$ d_{kNN}(x,y) = \\displaystyle \\inf_{\\gamma}\\sum_{i}|x_i-x_{i-1}|$$\n",
    "    \n",
    "where the infimum is over all finite paths $\\gamma = (x_0 = x, x_1, \\dots, x_{r-1}, x_r = y)$ between $x$ and $y$ over the kNN graph over the point cloud.\n",
    "    \n",
    "In the foundational [article](https://www.science.org/doi/10.1126/science.290.5500.2319) of the popular method ISOMAP, the authors show that if the sample belongs to a Riemannian manifold $\\mathcal M$ embedded in the Euclidean space, then $d_{kNN}(x,y)$ converges to the geodesic distance $d_{\\mathcal M}(x,y)$. However, this metric is highly sensitive to noise."
   ]
  },
  {
   "cell_type": "code",
   "execution_count": null,
   "id": "e43f96cb",
   "metadata": {},
   "outputs": [],
   "source": [
    "k = 5\n",
    "kNN = KNeighborsGraph(n_neighbors=k)\n",
    "X_kNN = kNN.fit_transform(point_cloud[None,:,:])\n",
    "GGD = GraphGeodesicDistance()\n",
    "kNN_matrix = GGD.fit_transform_plot(X_kNN)"
   ]
  },
  {
   "cell_type": "code",
   "execution_count": null,
   "id": "19673144",
   "metadata": {},
   "outputs": [],
   "source": [
    "VR_kNN = VietorisRipsPersistence(homology_dimensions=homology_dimensions, metric = 'precomputed')\n",
    "diagram_kNN = VR_kNN.fit_transform(kNN_matrix)\n",
    "VR_kNN.plot(diagram_kNN)"
   ]
  },
  {
   "cell_type": "markdown",
   "id": "768c1978",
   "metadata": {},
   "source": [
    "* **Fermat distance**"
   ]
  },
  {
   "cell_type": "markdown",
   "id": "09184914",
   "metadata": {},
   "source": [
    "In presence of noise, it may be useful to take into account the underlying density that produces the sample. \n",
    "\n",
    "Given the point cloud $\\mathbb{X}_n$, compute **Fermat distances** for a given  parameter $p>1$ as follows:\n",
    "\n",
    "$$ d_{\\mathbb{X}_n,p}(x,y) = \\displaystyle \\inf_{\\gamma}\\sum_{i}|x_i-x_{i-1}|^p$$\n",
    "    \n",
    "where the infimum is over all finite paths $\\gamma = (x_0 = x, x_1, \\dots, x_{r-1}, x_r = y)$ between $x$ and $y$ over the complete graph over the point cloud.\n",
    "    \n",
    "In this [article](https://arxiv.org/abs/2012.07621), the authors proved that if the point cloud belongs to a $d$-dimensional Riemannian manifold $\\mathcal M$ embedded in a higher dimensional Euclidean space and the sample is produced according to a positive density $f:\\mathcal M\\to \\mathbb{R}$, then $d_{p}(x,y)$ converges (modulo a reescaling factor) to a deformed geodesic distance $$d_{\\mathcal M, f, p}(x,y) = \\inf_{\\gamma} \\int_{\\gamma}\\frac{1}{f^{(p-1)/d}}$$\n",
    "where the infimum is over all smooth paths $\\gamma : [0,1]\\to \\mathcal M$ between $x$ and $y$ over the manifold.\n",
    "Notice that $d_{p}(x,y)$ penalizes areas of low density.\n",
    "\n",
    "It can be shown that if the geodesics in $\\mathbb{X}_n$ are computed over the kNN-graph for $k = O(\\log(n))$, then there is also convergence with high probability of the Fermat distance $d_{\\mathbb{X}_n, p}$ towards the deformed geodesic  distance $d_{\\mathcal M, f, p}$"
   ]
  },
  {
   "cell_type": "markdown",
   "id": "fd677d43",
   "metadata": {},
   "source": [
    "Notice that Fermat distance is a generalization of both the Euclidean and the kNN distance. Indeed, for $p=1$ and $k$ the size of the sample, we recover the ambient Euclidean distance. On the other hand, for $p=1$ and a smaller value of $k$ we recover the kNN-distance."
   ]
  },
  {
   "cell_type": "code",
   "execution_count": null,
   "id": "b481a25e",
   "metadata": {},
   "outputs": [],
   "source": [
    "# we should modify this part according to the version of fermat in giotto-tda\n",
    "\n",
    "from fermat import Fermat\n",
    "from scipy.spatial import  distance_matrix\n",
    "\n",
    "def compute_fermat_distance(data, p, k):\n",
    "    \n",
    "    #Compute euclidean distances\n",
    "    distances = distance_matrix(data, data)\n",
    "    \n",
    "    # Initialize the model\n",
    "    fermat = Fermat(alpha = p, path_method='D', k = k) #method Dijkstra\n",
    "\n",
    "    # Fit\n",
    "    fermat.fit(distances)\n",
    "    \n",
    "    ##Compute Fermat distances\n",
    "    fermat_dist = fermat.get_distances()\n",
    "    \n",
    "    return  fermat_dist"
   ]
  },
  {
   "cell_type": "code",
   "execution_count": null,
   "id": "955e4272",
   "metadata": {},
   "outputs": [],
   "source": [
    "p = 7\n",
    "Fermat_matrix = compute_fermat_distance(point_cloud, p, int(np.log(len(point_cloud))))\n",
    "plot_heatmap(Fermat_matrix, colorscale='blues', title = 'Fermat distance for p = %s'%p)   "
   ]
  },
  {
   "cell_type": "code",
   "execution_count": null,
   "id": "930937d3",
   "metadata": {},
   "outputs": [],
   "source": [
    "VR_Fermat = VietorisRipsPersistence(homology_dimensions=homology_dimensions, metric = 'precomputed')\n",
    "diagram_Fermat = VR_Fermat.fit_transform(Fermat_matrix[None,:,:])\n",
    "VR_Fermat.plot(diagram_Fermat)"
   ]
  },
  {
   "cell_type": "markdown",
   "id": "879b02d6",
   "metadata": {},
   "source": [
    "#### The effect of deformation of Fermat distance with respect to $p$"
   ]
  },
  {
   "cell_type": "markdown",
   "id": "29131b01",
   "metadata": {},
   "source": [
    "The value of the $p$ plays a relevant role in the computation of Fermat distance, since it quantifies the effect of deformation derived from the density."
   ]
  },
  {
   "cell_type": "code",
   "execution_count": null,
   "id": "8ffbd27f",
   "metadata": {},
   "outputs": [],
   "source": [
    "def Riemmanian_deformation(point_cloud, p, k, n_components):\n",
    "    embedding = MDS(n_components=n_components, dissimilarity='precomputed')\n",
    "    Fermat_matrix = compute_fermat_distance(point_cloud, p, k)\n",
    "    embedding_pc = embedding.fit_transform(Fermat_matrix)\n",
    "    return embedding_pc"
   ]
  },
  {
   "cell_type": "markdown",
   "id": "81b4210c",
   "metadata": {},
   "source": [
    "* **Fermat deformation for $p=3$**"
   ]
  },
  {
   "cell_type": "code",
   "execution_count": null,
   "id": "af3c0cd6",
   "metadata": {},
   "outputs": [],
   "source": [
    "p = 3\n",
    "k = int(np.log(len(point_cloud)))\n",
    "deformed_pc = Riemmanian_deformation(point_cloud, p, k, 3)\n",
    "plot_point_cloud(deformed_pc)"
   ]
  },
  {
   "cell_type": "markdown",
   "id": "90e80cd3",
   "metadata": {},
   "source": [
    "* **Fermat deformation for $p=5$**"
   ]
  },
  {
   "cell_type": "code",
   "execution_count": null,
   "id": "972deef5",
   "metadata": {},
   "outputs": [],
   "source": [
    "p = 5\n",
    "k = int(np.log(len(point_cloud)))\n",
    "deformed_pc = Riemmanian_deformation(point_cloud, p, k, 3)\n",
    "plot_point_cloud(deformed_pc)"
   ]
  },
  {
   "cell_type": "markdown",
   "id": "ce50aad2",
   "metadata": {},
   "source": [
    "* **Fermat deformation for $p=7$**"
   ]
  },
  {
   "cell_type": "code",
   "execution_count": null,
   "id": "42ef6ded",
   "metadata": {},
   "outputs": [],
   "source": [
    "p = 7\n",
    "k = int(np.log(len(point_cloud)))\n",
    "deformed_pc = Riemmanian_deformation(point_cloud, p, k, 3)\n",
    "plot_point_cloud(deformed_pc)"
   ]
  },
  {
   "cell_type": "markdown",
   "id": "98d36d85",
   "metadata": {},
   "source": [
    "For $p=1$ and $k>0$, we recover the intrinsic deformation carried by the kNN-distance, which is strongly affected by the presence of noise in areas of small reach."
   ]
  },
  {
   "cell_type": "code",
   "execution_count": null,
   "id": "a267ad9a",
   "metadata": {},
   "outputs": [],
   "source": [
    "p = 1\n",
    "k = 5\n",
    "deformed_pc = Riemmanian_deformation(point_cloud, p, k, 3)\n",
    "plot_point_cloud(deformed_pc)"
   ]
  },
  {
   "cell_type": "markdown",
   "id": "64053290",
   "metadata": {},
   "source": [
    "## Robustness to outliers"
   ]
  },
  {
   "cell_type": "markdown",
   "id": "e55e5b99",
   "metadata": {},
   "source": [
    "The presence of outliers is another factor that strongly impacts the performance of computations of persistent homology. Whereas the accuracy of the approximation of the geodesic distance by the kNN-distance may be dramatically affected by the existence of outliers, the intrinsic information captured by the persistence diagrams using Fermat distance is reliable even for samples with outliers. Indeed, it remains unnafected for positive homology degrees."
   ]
  },
  {
   "cell_type": "markdown",
   "id": "8684ce45",
   "metadata": {},
   "source": [
    "Let's add some outliers to our original sample of the trefoil knot."
   ]
  },
  {
   "cell_type": "code",
   "execution_count": null,
   "id": "044ec894",
   "metadata": {},
   "outputs": [],
   "source": [
    "n_out = 20\n",
    "outliers = np.column_stack([(np.random.rand(n_out)-0.5)*5 for _ in range(3)])\n",
    "point_cloud_outliers = np.concatenate((point_cloud, outliers))\n",
    "plot_point_cloud(point_cloud_outliers)\n"
   ]
  },
  {
   "cell_type": "markdown",
   "id": "f334aef4",
   "metadata": {},
   "source": [
    "In what follows, we will see how the addition of outliers does affect the information given by the persistent homology computation, for different choices of intrinsic input distances."
   ]
  },
  {
   "cell_type": "markdown",
   "id": "fd26eaf6",
   "metadata": {},
   "source": [
    "* **kNN-distance**"
   ]
  },
  {
   "cell_type": "code",
   "execution_count": null,
   "id": "139913ff",
   "metadata": {},
   "outputs": [],
   "source": [
    "k = 5\n",
    "kNN = KNeighborsGraph(n_neighbors=k)\n",
    "X_kNN = kNN.fit_transform(point_cloud_outliers[None,:,:])\n",
    "GGD = GraphGeodesicDistance()\n",
    "kNN_matrix = GGD.fit_transform(X_kNN)"
   ]
  },
  {
   "cell_type": "code",
   "execution_count": null,
   "id": "c27edbd9",
   "metadata": {},
   "outputs": [],
   "source": [
    "VR_kNN = VietorisRipsPersistence(homology_dimensions=[1], metric = 'precomputed')\n",
    "diagram_kNN = VR_kNN.fit_transform(kNN_matrix)\n",
    "VR_kNN.plot(diagram_kNN)"
   ]
  },
  {
   "cell_type": "markdown",
   "id": "72770638",
   "metadata": {},
   "source": [
    "In comparison with the case without the outliers, we can see that outliers produced even more salient generators of $H_1$ when using kNN-distance."
   ]
  },
  {
   "cell_type": "markdown",
   "id": "5cb3771a",
   "metadata": {},
   "source": [
    "* **Fermat distance**"
   ]
  },
  {
   "cell_type": "code",
   "execution_count": null,
   "id": "ff37ada9",
   "metadata": {},
   "outputs": [],
   "source": [
    "p = 7\n",
    "Fermat_matrix = compute_fermat_distance(point_cloud_outliers, p, int(np.log(len(point_cloud_outliers))))"
   ]
  },
  {
   "cell_type": "code",
   "execution_count": null,
   "id": "bddf68f0",
   "metadata": {},
   "outputs": [],
   "source": [
    "VR_Fermat = VietorisRipsPersistence(homology_dimensions=[1], metric = 'precomputed')\n",
    "diagram_Fermat = VR_Fermat.fit_transform(Fermat_matrix[None,:,:])\n",
    "VR_Fermat.plot(diagram_Fermat)"
   ]
  },
  {
   "cell_type": "markdown",
   "id": "a13bc34a",
   "metadata": {},
   "source": [
    "After contrasting with the case without the outliers, it can be noticed that the persistent diagram for $H_1$ remains exactly the same when using Fermat distance as input. On the contrary, the addition of outliers to the point cloud should skyrocket the number of salient generators of $H_0$, since every outlier point is interpreted as a clear long-lasting connected component. "
   ]
  }
 ],
 "metadata": {
  "kernelspec": {
   "display_name": "Python 3",
   "language": "python",
   "name": "python3"
  },
  "language_info": {
   "codemirror_mode": {
    "name": "ipython",
    "version": 3
   },
   "file_extension": ".py",
   "mimetype": "text/x-python",
   "name": "python",
   "nbconvert_exporter": "python",
   "pygments_lexer": "ipython3",
   "version": "3.6.8"
  }
 },
 "nbformat": 4,
 "nbformat_minor": 5
}
