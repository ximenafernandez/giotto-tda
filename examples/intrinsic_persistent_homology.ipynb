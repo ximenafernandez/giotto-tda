{
 "cells": [
  {
   "cell_type": "markdown",
   "id": "403ae0ca-0fd4-47e7-9372-a6c236e20ced",
   "metadata": {},
   "source": [
    "# Intrinsic persistent homology"
   ]
  },
  {
   "cell_type": "markdown",
   "id": "bf47629f-a98c-4644-b862-725eb7572ed3",
   "metadata": {},
   "source": [
    "This notebook contains a comparison of different distances to be considered when computing persistent homology of a point cloud assumed to be sample points _close_ to a **manifold** in a high dimensional Euclidean space."
   ]
  },
  {
   "cell_type": "markdown",
   "id": "09ce87e2-2780-4035-9ffc-6934441e9283",
   "metadata": {},
   "source": [
    "## Generation of the point cloud: the trefoil knot\n",
    "We have a function to generate a noisy sample of the trefoil knot."
   ]
  },
  {
   "cell_type": "code",
   "execution_count": null,
   "id": "f3476aeb-e351-48b2-baf7-bfd962ebdede",
   "metadata": {},
   "outputs": [],
   "source": [
    "import numpy as np\n",
    "\n",
    "def trefoil(n, var):\n",
    "    '''\n",
    "    n: size of the sample,\n",
    "    var: variance of the noise with normal distribution\n",
    "    '''\n",
    "    phi = np.linspace(0,2*np.pi,n)\n",
    "    \n",
    "    X = np.sin(phi)+2*np.sin(2*phi)  + np.random.normal(0, var, n)\n",
    "    Y = np.cos(phi)-2*np.cos(2*phi)  + np.random.normal(0, var, n)\n",
    "    Z = - np.sin(3*phi)              + np.random.normal(0, var, n)\n",
    "    \n",
    "    sample_trefoil = np.column_stack((X,Y,Z))\n",
    "    \n",
    "    return sample_trefoil"
   ]
  },
  {
   "cell_type": "code",
   "execution_count": null,
   "id": "729f8de5-ed15-4d89-98ed-ef23dde6beff",
   "metadata": {},
   "outputs": [],
   "source": [
    "from gtda.plotting import plot_point_cloud\n",
    "\n",
    "np.random.seed(1212)\n",
    "point_cloud = trefoil(1500, 0.18)\n",
    "plot_point_cloud(point_cloud)"
   ]
  },
  {
   "cell_type": "markdown",
   "id": "89f821af",
   "metadata": {},
   "source": [
    "Notice that although the trefoil knot is a _non-trivial_ embedding of $S^1$ in $\\mathbb{R}^3$, it is homeomorphic to a circle. In particular, its shares the same homology groups and so its Betti numbers are $\\beta_0 = 1$, $\\beta_1 = 1$ and $\\beta_i = 0$ for $i>1$."
   ]
  },
  {
   "cell_type": "markdown",
   "id": "f1134774-462b-4cf9-9466-276ba5c25d7f",
   "metadata": {},
   "source": [
    "## (Intrinsic) metric structure on top of the point cloud"
   ]
  },
  {
   "cell_type": "markdown",
   "id": "3101eeaa",
   "metadata": {},
   "source": [
    "* **Euclidean distance**"
   ]
  },
  {
   "cell_type": "markdown",
   "id": "ad9b4b74",
   "metadata": {},
   "source": [
    "Given a sample $\\mathbb{X_n}$ of points in the Euclidean space, the Euclidean distance is the most used and easily computable input distance when computing persistence diagrams. However, it does not capture the intrinsic information of the underlying topological space, being the output diagram highly dependent on the particular embedding of the data."
   ]
  },
  {
   "cell_type": "code",
   "execution_count": null,
   "id": "941577a9",
   "metadata": {},
   "outputs": [],
   "source": [
    "from sklearn.metrics.pairwise import euclidean_distances\n",
    "from gtda.plotting import plot_heatmap\n",
    "\n",
    "E_matrix = euclidean_distances(point_cloud, point_cloud)\n",
    "plot_heatmap(E_matrix, colorscale='blues')"
   ]
  },
  {
   "cell_type": "markdown",
   "id": "a1452b85",
   "metadata": {},
   "source": [
    "* **kNN distance**"
   ]
  },
  {
   "cell_type": "markdown",
   "id": "5a68351b",
   "metadata": {},
   "source": [
    "Given the point cloud, compute kNN-distances for a given integer parameter $k>0$ as follows:\n",
    "\n",
    "$$ d_{kNN}(x,y) = \\displaystyle \\inf_{\\gamma}\\sum_{i}|x_i-x_{i-1}|$$\n",
    "    \n",
    "where the infimum is over all finite paths $\\gamma = (x_0 = x, x_1, \\dots, x_{r-1}, x_r = y)$ between $x$ and $y$ over the kNN graph over the point cloud.\n",
    "    \n",
    "In the foundational [article](https://www.science.org/doi/10.1126/science.290.5500.2319) of the popular method ISOMAP, the authors show that if the sample belongs to a Riemannian manifold $\\mathcal M$ embedded in the Euclidean space, then $d_{kNN}(x,y)$ converges to the geodesic distance $d_{\\mathcal M}(x,y)$. However, this metric is highly sensitive to noise."
   ]
  },
  {
   "cell_type": "code",
   "execution_count": null,
   "id": "e43f96cb",
   "metadata": {},
   "outputs": [],
   "source": [
    "from gtda.graphs import KNeighborsGraph, GraphGeodesicDistance\n",
    "\n",
    "k = 7\n",
    "kNN = KNeighborsGraph(n_neighbors=k, mode = 'distance')\n",
    "X_kNN = kNN.fit_transform(point_cloud[None,:,:])\n",
    "GGD = GraphGeodesicDistance()\n",
    "kNN_matrix = GGD.fit_transform(X_kNN)\n",
    "plot_heatmap(kNN_matrix[0], colorscale='blues')"
   ]
  },
  {
   "cell_type": "markdown",
   "id": "d34f573f-37ac-4534-9cf2-712fc095ad62",
   "metadata": {},
   "source": [
    "We can notice that the kNN-distance is far different from the Euclidean distance, specially between points that are close in the embedding of the curve in the Euclidean space but far away with respect to the geodesic distance. We compute below the MDS embedding of the pointcloud according to the kNN-distance matrix."
   ]
  },
  {
   "cell_type": "code",
   "execution_count": null,
   "id": "1ea225b2-397f-4a65-85b0-bc2774a9a840",
   "metadata": {},
   "outputs": [],
   "source": [
    "from sklearn.manifold import MDS\n",
    "\n",
    "embedding = MDS(n_components=3, dissimilarity='precomputed')\n",
    "embedding_kNN = embedding.fit_transform(kNN_matrix[0])\n",
    "plot_point_cloud(embedding_kNN)"
   ]
  },
  {
   "cell_type": "markdown",
   "id": "7eebd401-b1c8-48b6-9ed4-56dc5630e560",
   "metadata": {},
   "source": [
    "We can observe that the presence of noise in the bottleneck regions makes the estimation of the gedesic distance quite inestable (indeed, the embedding has an _eight shape_ instead of a circle shape)."
   ]
  },
  {
   "cell_type": "markdown",
   "id": "768c1978",
   "metadata": {},
   "source": [
    "* **Fermat distance**"
   ]
  },
  {
   "cell_type": "markdown",
   "id": "09184914",
   "metadata": {},
   "source": [
    "In presence of **noise**, it may be useful to take into account the underlying density that produces the sample. \n",
    "\n",
    "Given the point cloud $\\mathbb{X}_n$, compute **Fermat distances** for a given  parameter $p>1$ as follows:\n",
    "\n",
    "$$ d_{\\mathbb{X}_n,p}(x,y) = \\displaystyle \\inf_{\\gamma}\\sum_{i}|x_i-x_{i-1}|^p$$\n",
    "    \n",
    "where the infimum is over all finite paths $\\gamma = (x_0 = x, x_1, \\dots, x_{r-1}, x_r = y)$ between $x$ and $y$ over the complete graph over the point cloud.\n",
    "    \n",
    "In this [article](https://arxiv.org/abs/2012.07621), the authors proved that if the point cloud belongs to a $d$-dimensional Riemannian manifold $\\mathcal M$ embedded in a higher dimensional Euclidean space and the sample is produced according to a positive density $f:\\mathcal M\\to \\mathbb{R}$, then $d_{p}(x,y)$ converges (modulo a reescaling factor) to a deformed geodesic distance $$d_{\\mathcal M, f, p}(x,y) = \\inf_{\\gamma} \\int_{\\gamma}\\frac{1}{f^{(p-1)/d}}$$\n",
    "where the infimum is over all smooth paths $\\gamma : [0,1]\\to \\mathcal M$ between $x$ and $y$ over the manifold.\n",
    "Notice that $d_{p}(x,y)$ penalizes areas of low density.\n",
    "\n",
    "It can be shown that if the geodesics in $\\mathbb{X}_n$ are computed over the kNN-graph for $k = O(\\log(n))$, then there is also convergence with high probability of the Fermat distance $d_{\\mathbb{X}_n, p}$ towards the deformed geodesic  distance $d_{\\mathcal M, f, p}$"
   ]
  },
  {
   "cell_type": "markdown",
   "id": "fd677d43",
   "metadata": {},
   "source": [
    "Notice that Fermat distance is a generalization of both the Euclidean and the kNN distance. Indeed, for $p=1$ and $k$ the size of the sample, we recover the ambient Euclidean distance. On the other hand, for $p=1$ and a smaller value of $k$ we recover the kNN-distance."
   ]
  },
  {
   "cell_type": "code",
   "execution_count": null,
   "id": "b8cac439",
   "metadata": {},
   "outputs": [],
   "source": [
    "from gtda.graphs import FermatDistance\n",
    "\n",
    "k = int(np.log(len(point_cloud)))\n",
    "kNN = KNeighborsGraph(n_neighbors = k, mode = 'distance')\n",
    "X_kNN = kNN.fit_transform(point_cloud[None,:,:])\n",
    "\n",
    "p = 5\n",
    "FD = FermatDistance(weight = p)           \n",
    "FD_matrix = FD.fit_transform_plot(X_kNN) "
   ]
  },
  {
   "cell_type": "code",
   "execution_count": null,
   "id": "bcb78bff-1d75-428a-aaf6-f34e657cc148",
   "metadata": {},
   "outputs": [],
   "source": [
    "embedding = MDS(n_components=3, dissimilarity='precomputed')\n",
    "embedding_FD = embedding.fit_transform(FD_matrix[0])\n",
    "plot_point_cloud(embedding_FD)"
   ]
  },
  {
   "cell_type": "markdown",
   "id": "7825946e-8ce7-470c-93ff-830351f982cd",
   "metadata": {},
   "source": [
    "We observe now that the MDS embedding of the pointcloud with respect to the Fermat distance is a circle, with some outliers that correspond to the \n",
    "noisy points on areas of low density."
   ]
  },
  {
   "cell_type": "markdown",
   "id": "f9731594",
   "metadata": {
    "tags": []
   },
   "source": [
    "## Persistent Homology"
   ]
  },
  {
   "cell_type": "markdown",
   "id": "4789f4cd",
   "metadata": {},
   "source": [
    "Although different Riemannian metrics does not change the topology of a compact Riemmanian manifold viewed as a metric space, the choice of the input distance when computing persistent homology from a sample plays a central role. In what follows, we will how the choice of different metrics in the sample affects the information produced by the associated persistent diagram, in the example of the trefoil knot."
   ]
  },
  {
   "cell_type": "code",
   "execution_count": null,
   "id": "f95b6f89-cd14-40c1-ad02-ccbc64b85a8d",
   "metadata": {},
   "outputs": [],
   "source": [
    "from gtda.homology import VietorisRipsPersistence\n",
    "from gtda.plotting import plot_diagram"
   ]
  },
  {
   "cell_type": "code",
   "execution_count": null,
   "id": "390213ab",
   "metadata": {},
   "outputs": [],
   "source": [
    "homology_dimensions = (0, 1)"
   ]
  },
  {
   "cell_type": "markdown",
   "id": "96dfd47f-06b9-4d7e-9ffc-b60974e9774d",
   "metadata": {},
   "source": [
    "- **Euclidean distance**"
   ]
  },
  {
   "cell_type": "code",
   "execution_count": null,
   "id": "ccdd4581",
   "metadata": {},
   "outputs": [],
   "source": [
    "VR_E = VietorisRipsPersistence(homology_dimensions=homology_dimensions, metric = 'euclidean')\n",
    "diagram_E = VR_E.fit_transform(point_cloud[None, :, :])\n",
    "VR_E.plot(diagram_E)"
   ]
  },
  {
   "cell_type": "markdown",
   "id": "22956f80",
   "metadata": {},
   "source": [
    "The persistence diagram computed using the Euclidean distance shows many salient generators for the first homology group, as consequence of areas of small reach in the embedding of $S^1$ in $\\mathbb{R}^3$. In order to capture intrinsic information of the underlying manifold (less dependent on the particular embedding), it is more desirable to endow the sample with an estimator of an intrinsic distance."
   ]
  },
  {
   "cell_type": "markdown",
   "id": "a1af2c60-65b5-4349-b4bc-55c7c02bed9a",
   "metadata": {},
   "source": [
    "- **kNN distance**"
   ]
  },
  {
   "cell_type": "code",
   "execution_count": null,
   "id": "19673144",
   "metadata": {},
   "outputs": [],
   "source": [
    "VR_kNN = VietorisRipsPersistence(homology_dimensions=homology_dimensions, metric = 'precomputed')\n",
    "diagram_kNN = VR_kNN.fit_transform(kNN_matrix)\n",
    "VR_kNN.plot(diagram_kNN)"
   ]
  },
  {
   "cell_type": "markdown",
   "id": "e4bde944-92d4-4428-9f99-a52661819864",
   "metadata": {},
   "source": [
    "The persistence diagram computed using the kNN distance shows two salient generators for the first homology group, as consequence of the wrong estimation of distances in noisy areas of small reach."
   ]
  },
  {
   "cell_type": "markdown",
   "id": "bf29ba32-b185-48cf-a572-79a9c1501a9a",
   "metadata": {},
   "source": [
    "- **Fermat distance**"
   ]
  },
  {
   "cell_type": "code",
   "execution_count": null,
   "id": "44ce2848",
   "metadata": {},
   "outputs": [],
   "source": [
    "VR_Fermat = VietorisRipsPersistence(homology_dimensions=homology_dimensions, metric = 'precomputed')\n",
    "diagram_Fermat = VR_Fermat.fit_transform(FD_matrix)\n",
    "VR_Fermat.plot(diagram_Fermat)"
   ]
  },
  {
   "cell_type": "markdown",
   "id": "1c369e63-7ed8-487a-b106-107d9dec9804",
   "metadata": {},
   "source": [
    "The persistence diagram computed using Fermat distance shows correctly a single generator for the first homology group. "
   ]
  },
  {
   "cell_type": "markdown",
   "id": "879b02d6",
   "metadata": {},
   "source": [
    "#### **The effect of deformation of Fermat distance with respect to $p$**"
   ]
  },
  {
   "cell_type": "markdown",
   "id": "29131b01",
   "metadata": {},
   "source": [
    "The value of the $p$ plays a relevant role in the computation of Fermat distance, since it quantifies the effect of deformation derived from the density."
   ]
  },
  {
   "cell_type": "code",
   "execution_count": null,
   "id": "7ae631b6-7c73-4c73-af2d-a45f1b733999",
   "metadata": {},
   "outputs": [],
   "source": [
    "def Riemmanian_deformation(point_cloud, p, k, n_components):\n",
    "    kNN = KNeighborsGraph(n_neighbors=k, mode = 'distance')\n",
    "    X_kNN = kNN.fit_transform(point_cloud[None,:,:])\n",
    "    \n",
    "    FD = FermatDistance(weight = p)          \n",
    "    FD_matrix = FD.fit_transform(X_kNN)\n",
    "    \n",
    "    embedding = MDS(n_components=n_components, dissimilarity='precomputed')\n",
    "    embedding_pc = embedding.fit_transform(FD_matrix[0])\n",
    "    return embedding_pc"
   ]
  },
  {
   "cell_type": "markdown",
   "id": "81b4210c",
   "metadata": {},
   "source": [
    "* **Fermat deformation for $p=3$**"
   ]
  },
  {
   "cell_type": "code",
   "execution_count": null,
   "id": "af3c0cd6",
   "metadata": {},
   "outputs": [],
   "source": [
    "p = 3\n",
    "k = int(np.log(len(point_cloud)))\n",
    "deformed_pc = Riemmanian_deformation(point_cloud, p, k, 3)\n",
    "plot_point_cloud(deformed_pc)"
   ]
  },
  {
   "cell_type": "markdown",
   "id": "90e80cd3",
   "metadata": {},
   "source": [
    " * **Fermat deformation for $p=4$**"
   ]
  },
  {
   "cell_type": "code",
   "execution_count": null,
   "id": "972deef5",
   "metadata": {},
   "outputs": [],
   "source": [
    "p = 4\n",
    "k = int(np.log(len(point_cloud)))\n",
    "deformed_pc = Riemmanian_deformation(point_cloud, p, k, 3)\n",
    "plot_point_cloud(deformed_pc)"
   ]
  },
  {
   "cell_type": "markdown",
   "id": "ce50aad2",
   "metadata": {},
   "source": [
    "* **Fermat deformation for $p=5$**"
   ]
  },
  {
   "cell_type": "code",
   "execution_count": null,
   "id": "42ef6ded",
   "metadata": {},
   "outputs": [],
   "source": [
    "p = 5\n",
    "k = int(np.log(len(point_cloud)))\n",
    "deformed_pc = Riemmanian_deformation(point_cloud, p, k, 3)\n",
    "plot_point_cloud(deformed_pc)"
   ]
  },
  {
   "cell_type": "markdown",
   "id": "98d36d85",
   "metadata": {},
   "source": [
    "For $p=1$ and $k>0$, we recover the intrinsic deformation carried by the kNN-distance."
   ]
  },
  {
   "cell_type": "code",
   "execution_count": null,
   "id": "a267ad9a",
   "metadata": {},
   "outputs": [],
   "source": [
    "p = 1\n",
    "k = 5\n",
    "deformed_pc = Riemmanian_deformation(point_cloud, p, k, 3)\n",
    "plot_point_cloud(deformed_pc)"
   ]
  },
  {
   "cell_type": "markdown",
   "id": "5adb41b4-b2a3-4535-afbc-023c37a33d32",
   "metadata": {},
   "source": [
    "For $p=1$ and $k$ equal to the size of the sample, we recover the Euclidean distance."
   ]
  },
  {
   "cell_type": "code",
   "execution_count": null,
   "id": "560a1841-d7fe-43c4-97ef-173d4540aab8",
   "metadata": {},
   "outputs": [],
   "source": [
    "p = 1\n",
    "k = len(point_cloud)-1\n",
    "deformed_pc = Riemmanian_deformation(point_cloud, p, k, 3)\n",
    "plot_point_cloud(deformed_pc)"
   ]
  },
  {
   "cell_type": "markdown",
   "id": "64053290",
   "metadata": {
    "tags": []
   },
   "source": [
    "## Robustness to outliers"
   ]
  },
  {
   "cell_type": "markdown",
   "id": "e55e5b99",
   "metadata": {},
   "source": [
    "The presence of outliers is another factor that strongly impacts the performance of computations of persistent homology. Whereas the accuracy of the approximation of the geodesic distance by the kNN-distance may be dramatically affected by the existence of outliers, the intrinsic information captured by the persistence diagrams using Fermat distance is reliable even for samples with outliers. Indeed, it remains unnafected for positive homology degrees."
   ]
  },
  {
   "cell_type": "markdown",
   "id": "8684ce45",
   "metadata": {},
   "source": [
    "Let's add some outliers to our original sample of the trefoil knot."
   ]
  },
  {
   "cell_type": "code",
   "execution_count": null,
   "id": "044ec894",
   "metadata": {},
   "outputs": [],
   "source": [
    "n_out = 20\n",
    "outliers = np.column_stack([(np.random.rand(n_out)-0.5)*5 for _ in range(3)])\n",
    "point_cloud_outliers = np.concatenate((point_cloud, outliers))\n",
    "plot_point_cloud(point_cloud_outliers)"
   ]
  },
  {
   "cell_type": "markdown",
   "id": "f334aef4",
   "metadata": {},
   "source": [
    "In what follows, we will see how the addition of outliers does affect the information given by the persistent homology computation, for different choices of intrinsic input distances."
   ]
  },
  {
   "cell_type": "markdown",
   "id": "fd26eaf6",
   "metadata": {},
   "source": [
    "* **kNN-distance**"
   ]
  },
  {
   "cell_type": "code",
   "execution_count": null,
   "id": "139913ff",
   "metadata": {},
   "outputs": [],
   "source": [
    "k = int(np.log(len(point_cloud)))\n",
    "kNN = KNeighborsGraph(n_neighbors=k, mode = 'distance')\n",
    "X_kNN = kNN.fit_transform(point_cloud_outliers[None,:,:])\n",
    "GGD = GraphGeodesicDistance()\n",
    "kNN_matrix = GGD.fit_transform(X_kNN)"
   ]
  },
  {
   "cell_type": "code",
   "execution_count": null,
   "id": "c27edbd9",
   "metadata": {},
   "outputs": [],
   "source": [
    "VR_kNN = VietorisRipsPersistence(homology_dimensions=[1], metric = 'precomputed')\n",
    "diagram_kNN = VR_kNN.fit_transform(kNN_matrix)\n",
    "VR_kNN.plot(diagram_kNN)"
   ]
  },
  {
   "cell_type": "markdown",
   "id": "72770638",
   "metadata": {},
   "source": [
    "In comparison with the case without the outliers, we can see that outliers produced even more salient generators of $H_1$ when using kNN-distance."
   ]
  },
  {
   "cell_type": "markdown",
   "id": "5cb3771a",
   "metadata": {},
   "source": [
    "* **Fermat distance**"
   ]
  },
  {
   "cell_type": "code",
   "execution_count": null,
   "id": "ff37ada9",
   "metadata": {},
   "outputs": [],
   "source": [
    "p = 5\n",
    "FD = FermatDistance(weight = p)          \n",
    "FD_matrix = FD.fit_transform(X_kNN)"
   ]
  },
  {
   "cell_type": "code",
   "execution_count": null,
   "id": "bddf68f0",
   "metadata": {},
   "outputs": [],
   "source": [
    "VR_Fermat = VietorisRipsPersistence(homology_dimensions=[1], metric = 'precomputed')\n",
    "diagram_Fermat = VR_Fermat.fit_transform(FD_matrix)\n",
    "VR_Fermat.plot(diagram_Fermat)"
   ]
  },
  {
   "cell_type": "markdown",
   "id": "a13bc34a",
   "metadata": {},
   "source": [
    "After contrasting with the case without the outliers, it can be noticed that the persistent diagram for $H_1$ remains exactly the same when using Fermat distance as input. On the contrary, the addition of outliers to the point cloud should skyrocket the number of salient generators of $H_0$, since every outlier point is interpreted as a clear long-lasting connected component. "
   ]
  },
  {
   "cell_type": "markdown",
   "id": "c3fd47e0-6fec-42c7-a27e-c699cd07ce1a",
   "metadata": {},
   "source": [
    "## Application to the topological analysis of time series"
   ]
  },
  {
   "cell_type": "markdown",
   "id": "37fa97ed-81d2-4845-82fa-922e2212e126",
   "metadata": {},
   "source": [
    "The topological analysis of time series is strongly linked with the construction of the **time delay embedding** or **Takens embedding** (see [Topology of time series](https://giotto-ai.github.io/gtda-docs/latest/notebooks/topology_time_series.html)).\n",
    "This construction is strongly dependent on two _parameters_: $d$ is the _embedding dimension_ and $\\tau$ the _time delay_.\n",
    "Although different choices of these parameters give rise to topologically equivalent spaces, their values are crucial to clearly determine the topology of the embedding in the Euclidean space. \n",
    "\n",
    "Recall that given a time series $f(t)$, the time delay embedding of $f$ with parameters $(d,\\tau)$ is the function\n",
    "\n",
    "$$\n",
    "TD_{d,\\tau} f : \\mathbb{R} \\to \\mathbb{R}^{d}\\,, \\qquad t \\to \\begin{bmatrix}\n",
    "           f(t) \\\\\n",
    "           f(t + \\tau) \\\\\n",
    "           f(t + 2\\tau) \\\\\n",
    "           \\vdots \\\\\n",
    "           f(t + (d-1)\\tau)\n",
    "         \\end{bmatrix}.\n",
    "$$\n",
    "\n",
    "\n",
    "If $f$ has a recurrent structure, then the image of $TD_{d,\\tau}f$ should have a cyclic shape, that might be captured by the associated persistent diagram _for appropriate choices of $(d, \\tau)$_. "
   ]
  },
  {
   "cell_type": "markdown",
   "id": "9ea35d04-1560-4878-a504-e73988253a83",
   "metadata": {},
   "source": [
    "In presence of noise, it might be more robust to use Fermat distance instead of kNN distance."
   ]
  },
  {
   "cell_type": "code",
   "execution_count": null,
   "id": "9407c805-0b07-4a42-a234-be888194d743",
   "metadata": {},
   "outputs": [],
   "source": [
    "import plotly.graph_objects as go\n",
    "\n",
    "x = np.linspace(0, 100, 5000)\n",
    "f = np.cos(x) + np.cos(3 * x)\n",
    "np.random.seed(123)\n",
    "noise = np.random.normal(0,0.2,5000)\n",
    "\n",
    "fig = go.Figure(data=go.Scatter(x=x, y=f+noise))\n",
    "fig.update_layout(xaxis_title=\"Timestamp\", yaxis_title=\"Amplitude\")\n",
    "fig.show()"
   ]
  },
  {
   "cell_type": "code",
   "execution_count": null,
   "id": "f71494c2-0635-4f7a-ad26-f21be7cd606f",
   "metadata": {},
   "outputs": [],
   "source": [
    "from gtda.time_series import SingleTakensEmbedding\n",
    "\n",
    "max_embedding_dimension = 10\n",
    "max_time_delay = 100\n",
    "stride = 5\n",
    "\n",
    "embedder_optima = SingleTakensEmbedding(\n",
    "    parameters_type=\"search\",\n",
    "    time_delay=max_time_delay,\n",
    "    dimension=max_embedding_dimension,\n",
    "    stride=stride,\n",
    ")"
   ]
  },
  {
   "cell_type": "code",
   "execution_count": null,
   "id": "4f3eb806-eda7-4817-a38e-36690664c5f6",
   "metadata": {},
   "outputs": [],
   "source": [
    "f_embedded_optima = embedder_optima.fit_transform(f+noise)\n",
    "print(f\"Optimal embedding dimension is {embedder_optima.dimension_} and time delay is {embedder_optima.time_delay_}\")\n",
    "plot_point_cloud(f_embedded_optima)"
   ]
  },
  {
   "cell_type": "code",
   "execution_count": null,
   "id": "2bc31713-d715-4bb1-8315-070c67ac9d79",
   "metadata": {},
   "outputs": [],
   "source": [
    "VR_E = VietorisRipsPersistence(homology_dimensions=[1], metric = 'euclidean')\n",
    "diagram_E = VR_E.fit_transform(f_embedded_optima[None, :, :])\n",
    "VR_E.plot(diagram_E, plotly_params = dict({\n",
    "    \"layout\": {\"title\": {\"text\": f\"PH using Euclidean distance\"}}}))"
   ]
  },
  {
   "cell_type": "code",
   "execution_count": null,
   "id": "8ec1eeea-3a77-4ac5-8a29-2cb86ff04267",
   "metadata": {},
   "outputs": [],
   "source": [
    "k = int(np.log(len(f_embedded_optima)))\n",
    "kNN = KNeighborsGraph(n_neighbors=k, mode = 'distance')\n",
    "X_kNN = kNN.fit_transform(f_embedded_optima[None,:,:])\n",
    "GGD = GraphGeodesicDistance()\n",
    "kNN_matrix = GGD.fit_transform(X_kNN)\n",
    "\n",
    "VR_kNN = VietorisRipsPersistence(homology_dimensions=[1], metric = 'precomputed')\n",
    "diagram_kNN = VR_kNN.fit_transform(kNN_matrix)\n",
    "VR_kNN.plot(diagram_kNN, plotly_params = dict({\n",
    "    \"layout\": {\"title\": {\"text\": f\"PH using kNN distance\"}}}))"
   ]
  },
  {
   "cell_type": "code",
   "execution_count": null,
   "id": "2f9835b2-4e8e-4ed2-bb92-4d0444847cb9",
   "metadata": {},
   "outputs": [],
   "source": [
    "p = 10\n",
    "FD = FermatDistance(weight = p)          \n",
    "FD_matrix = FD.fit_transform(X_kNN)\n",
    "\n",
    "VR_Fermat = VietorisRipsPersistence(homology_dimensions=[1], metric = 'precomputed')\n",
    "diagram_Fermat = VR_Fermat.fit_transform(FD_matrix)\n",
    "VR_Fermat.plot(diagram_Fermat, plotly_params = dict({\n",
    "    \"layout\": {\"title\": {\"text\": f\"PH using Fermat distance\"}}}))"
   ]
  },
  {
   "cell_type": "markdown",
   "id": "1184c8eb-f8b1-4540-9066-42c368fdaa47",
   "metadata": {},
   "source": [
    "With some parameters, the topology of the delay embedding is clearly a **cycle**."
   ]
  },
  {
   "cell_type": "code",
   "execution_count": null,
   "id": "2906a7cd-b7c5-45b2-9db9-5d3716c4de7a",
   "metadata": {},
   "outputs": [],
   "source": [
    "embedding_dimension = 3\n",
    "time_delay = 50\n",
    "stride = 5\n",
    "\n",
    "embedder = SingleTakensEmbedding(\n",
    "    parameters_type=\"fixed\",\n",
    "    n_jobs=2,\n",
    "    time_delay=time_delay,\n",
    "    dimension=embedding_dimension,\n",
    "    stride=stride,\n",
    ")\n",
    "\n",
    "f_embedded = embedder.fit_transform(f+noise)\n",
    "plot_point_cloud(f_embedded)"
   ]
  },
  {
   "cell_type": "markdown",
   "id": "47df8953-4e2e-4584-8c4f-9561a204571c",
   "metadata": {},
   "source": [
    "The estimation of the shape of the embedding of the noisy time series is more **stable** with respect to different choices of parameters if we use **Fermat distance**.\n",
    "    "
   ]
  },
  {
   "cell_type": "code",
   "execution_count": null,
   "id": "6a2f1985-26aa-4a2d-9ad1-0e92f94679fd",
   "metadata": {},
   "outputs": [],
   "source": [
    "def compute_PH_Fermat(time_delay, embedding_dimension, point_cloud, k, p):\n",
    "    embedder = SingleTakensEmbedding(\n",
    "    parameters_type=\"fixed\",\n",
    "    n_jobs=2,\n",
    "    time_delay=time_delay,\n",
    "    dimension=embedding_dimension,\n",
    "    stride=stride,\n",
    "    )\n",
    "    f_embedded = embedder.fit_transform(point_cloud)\n",
    "\n",
    "    kNN = KNeighborsGraph(n_neighbors=k, mode = 'distance')\n",
    "    X_kNN = kNN.fit_transform(f_embedded[None,:,:])\n",
    "\n",
    "    FD = FermatDistance(weight = p)          \n",
    "    FD_matrix = FD.fit_transform(X_kNN)\n",
    "\n",
    "    VR_Fermat = VietorisRipsPersistence(homology_dimensions=[1], metric = 'precomputed')\n",
    "    diagram_Fermat = VR_Fermat.fit_transform(FD_matrix)\n",
    "    return VR_Fermat.plot(diagram_Fermat, plotly_params = dict({\n",
    "    \"layout\": {\"title\": {\"text\": f\"PH of Takens Embedding: delay = {time_delay}, dimension = {embedding_dimension}.\"}}\n",
    "}))"
   ]
  },
  {
   "cell_type": "code",
   "execution_count": null,
   "id": "c673dc41-5b42-4873-b03b-3c9fd139426b",
   "metadata": {},
   "outputs": [],
   "source": [
    "k = int(np.log(len(f)))\n",
    "p = 5"
   ]
  },
  {
   "cell_type": "code",
   "execution_count": null,
   "id": "eed1d146-675d-413e-a6bc-9e474d7b6670",
   "metadata": {},
   "outputs": [],
   "source": [
    "compute_PH_Fermat(40, 4, f+noise, k, p)"
   ]
  },
  {
   "cell_type": "code",
   "execution_count": null,
   "id": "fa3c69d2-7d7a-4484-85e4-8c51c1551e15",
   "metadata": {},
   "outputs": [],
   "source": [
    "compute_PH_Fermat(40, 5, f+noise, k, p)"
   ]
  },
  {
   "cell_type": "code",
   "execution_count": null,
   "id": "85ac0115-aa6c-48f2-ad2e-81d5b4c9feb8",
   "metadata": {},
   "outputs": [],
   "source": [
    "compute_PH_Fermat(40, 6, f+noise, k, p)"
   ]
  },
  {
   "cell_type": "code",
   "execution_count": null,
   "id": "a30a412d-4fda-4d97-adb5-479c292fa00c",
   "metadata": {},
   "outputs": [],
   "source": [
    "compute_PH_Fermat(50, 3, f+noise, k, p)"
   ]
  },
  {
   "cell_type": "code",
   "execution_count": null,
   "id": "a2b1082c-23dd-4295-a4de-bf065890a702",
   "metadata": {},
   "outputs": [],
   "source": [
    "compute_PH_Fermat(50, 4, f+noise, k, p)"
   ]
  },
  {
   "cell_type": "code",
   "execution_count": null,
   "id": "7928336e-b0a7-4233-8abc-1f5968657de0",
   "metadata": {},
   "outputs": [],
   "source": [
    "compute_PH_Fermat(50, 5, f+noise, k, p)"
   ]
  },
  {
   "cell_type": "code",
   "execution_count": null,
   "id": "2fba6a5a-de62-4548-be3f-944591675e43",
   "metadata": {},
   "outputs": [],
   "source": [
    "compute_PH_Fermat(60, 3, f+noise, k, p)"
   ]
  },
  {
   "cell_type": "code",
   "execution_count": null,
   "id": "61c78c5c-e6f0-444d-aff8-410c1234e28a",
   "metadata": {},
   "outputs": [],
   "source": [
    "compute_PH_Fermat(60, 4, f+noise, k, p)"
   ]
  },
  {
   "cell_type": "code",
   "execution_count": null,
   "id": "067ac14f-a3a0-42f4-9bb8-bf85b873575d",
   "metadata": {},
   "outputs": [],
   "source": [
    "compute_PH_Fermat(60, 5, f+noise, k, p)"
   ]
  },
  {
   "cell_type": "code",
   "execution_count": null,
   "id": "dfce3fd6-b0ed-4ac2-b25c-a6296ec7aef5",
   "metadata": {},
   "outputs": [],
   "source": [
    "compute_PH_Fermat(70, 4, f+noise, k, p)"
   ]
  },
  {
   "cell_type": "code",
   "execution_count": null,
   "id": "17cca69d-4461-41ba-9c64-6d12a42f8a61",
   "metadata": {},
   "outputs": [],
   "source": [
    "compute_PH_Fermat(70, 5, f+noise, k, p)"
   ]
  },
  {
   "cell_type": "code",
   "execution_count": null,
   "id": "7d33fd42-fe23-4eb6-820b-237b97465b62",
   "metadata": {},
   "outputs": [],
   "source": [
    "compute_PH_Fermat(40, 7, f+noise, k, p)"
   ]
  }
 ],
 "metadata": {
  "kernelspec": {
   "display_name": "Python 3 (ipykernel)",
   "language": "python",
   "name": "python3"
  },
  "language_info": {
   "codemirror_mode": {
    "name": "ipython",
    "version": 3
   },
   "file_extension": ".py",
   "mimetype": "text/x-python",
   "name": "python",
   "nbconvert_exporter": "python",
   "pygments_lexer": "ipython3",
   "version": "3.9.10"
  }
 },
 "nbformat": 4,
 "nbformat_minor": 5
}
